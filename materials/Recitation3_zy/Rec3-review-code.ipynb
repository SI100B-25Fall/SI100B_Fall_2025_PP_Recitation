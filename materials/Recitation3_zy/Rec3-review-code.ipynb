{
 "cells": [
  {
   "cell_type": "markdown",
   "id": "e31b025c",
   "metadata": {},
   "source": [
    "argument 和 parameter 的区别\n",
    "- 在中文场景下，二者混用基本没有问题, 但若要严格再进行区分，它们实际上还有各自的叫法\n",
    "- parameter：形参（formal parameter），体现在函数内部，作用域是这个函数体。\n",
    "- argument ：实参（actual parameter），调用函数实际拿来运算的值。\n",
    "- 举个例子，如下这段代码，`str` 为 argument，而 `msg` 为 parameter。"
   ]
  },
  {
   "cell_type": "code",
   "execution_count": 2,
   "id": "de42b210",
   "metadata": {},
   "outputs": [
    {
     "name": "stdout",
     "output_type": "stream",
     "text": [
      "Id of str: 2325852447648\n",
      "Id of msg 2325852447648\n"
     ]
    }
   ],
   "source": [
    "def output_msg(msg):\n",
    "    print(\"Id of msg\", id(msg)) # The same as id(str)\n",
    "\n",
    "str = \"error\"\n",
    "print(\"Id of str:\", id(str)) \n",
    "output_msg(str)"
   ]
  },
  {
   "cell_type": "markdown",
   "id": "9016f0cb",
   "metadata": {},
   "source": [
    "可变对象和不可变对象"
   ]
  },
  {
   "cell_type": "code",
   "execution_count": 9,
   "id": "665ae60d",
   "metadata": {},
   "outputs": [
    {
     "name": "stdout",
     "output_type": "stream",
     "text": [
      "print l: [1, 2]\n",
      "Id of l: 2684830934208\n",
      "print l: [1, 2, 3]\n",
      "Id of l: 2684830934208\n",
      "\n",
      "print a: 100\n",
      "Id of a: 140729469480968\n",
      "print a: 99\n",
      "Id of a: 140729469480936\n"
     ]
    }
   ],
   "source": [
    "# List is a mutable object\n",
    "l = [1, 2]\n",
    "print(\"print l:\", l)\n",
    "print(\"Id of l:\", id(l))\n",
    "l.append(3)\n",
    "print(\"print l:\", l)\n",
    "print(\"Id of l:\", id(l))\n",
    "print()\n",
    "\n",
    "# int is an immutable object\n",
    "a = 100\n",
    "print(\"print a:\", a)\n",
    "print(\"Id of a:\", id(a)) \n",
    "a -= 1\n",
    "print(\"print a:\", a)\n",
    "print(\"Id of a:\", id(a)) \n"
   ]
  },
  {
   "cell_type": "code",
   "execution_count": 15,
   "id": "1361df33",
   "metadata": {},
   "outputs": [
    {
     "name": "stdout",
     "output_type": "stream",
     "text": [
      "Id of a: 140729469477800\n",
      "Id of b before revised: 140729469477800\n",
      "Id of b after revised: 140729469477832\n",
      "1\n"
     ]
    }
   ],
   "source": [
    "# 向函数传入不可变对象，此处为 int\n",
    "def foo(b):\n",
    "    print(\"Id of b before revised:\", id(b))\n",
    "    b = 2\n",
    "    print(\"Id of b after revised:\", id(b))\n",
    "    # id will change after revised: a new object\n",
    " \n",
    "a = 1\n",
    "print(\"Id of a:\", id(a))\n",
    "foo(a)\n",
    "print(a) # 1"
   ]
  },
  {
   "cell_type": "code",
   "execution_count": null,
   "id": "eabb0ab8",
   "metadata": {},
   "outputs": [
    {
     "name": "stdout",
     "output_type": "stream",
     "text": [
      "Id of l1: 2684830936000\n",
      "Id of l2 before revised: 2684830936000\n",
      "Id of l2 after revised: 2684830936000\n",
      "[1, 2, 3, 4]\n"
     ]
    }
   ],
   "source": [
    "# 向函数传入可变对象，此处为 list\n",
    "def foo(l2):\n",
    "    print(\"Id of l2 before revised:\", id(l2))\n",
    "    l2.append(4)\n",
    "    print(\"Id of l2 after revised:\", id(l2)) # same\n",
    " \n",
    "l1 = [1, 2, 3]\n",
    "print(\"Id of l1:\", id(l1))\n",
    "foo(l1)\n",
    "print(l1) # [1, 2, 3, 4]"
   ]
  },
  {
   "cell_type": "markdown",
   "id": "b99791f8",
   "metadata": {},
   "source": [
    "全局变量和局部变量"
   ]
  },
  {
   "cell_type": "code",
   "execution_count": 11,
   "id": "46fcb2a5",
   "metadata": {},
   "outputs": [
    {
     "name": "stdout",
     "output_type": "stream",
     "text": [
      "73.4\n"
     ]
    }
   ],
   "source": [
    "# 将摄氏度换算为华氏度\n",
    "def celsius_to_fahrenheit(celsius):\n",
    "   fahrenheit = celsius * 9 / 5 + 32\n",
    "   return fahrenheit\n",
    "\n",
    "celsius = 23\n",
    "fahrenheit = celsius_to_fahrenheit(celsius)\n",
    "print(fahrenheit)"
   ]
  },
  {
   "cell_type": "markdown",
   "id": "0e28d349",
   "metadata": {},
   "source": [
    "作用域"
   ]
  },
  {
   "cell_type": "code",
   "execution_count": null,
   "id": "0792edc4",
   "metadata": {},
   "outputs": [
    {
     "name": "stdout",
     "output_type": "stream",
     "text": [
      "外面的人 高考英语卷中\n",
      "上科大的 上海科技大学\n",
      "隔壁大学 高考英语卷中\n",
      "外面的人 高考英语卷中\n"
     ]
    }
   ],
   "source": [
    "which_li_hua = \"高考英语卷中\"\n",
    "    \n",
    "def ShanghaiTech(): \n",
    "    which_li_hua = \"上海科技大学\"\n",
    "    print(\"上科大的\", which_li_hua) # 上海科技大学\n",
    "    \n",
    "def SUSTech(): # 隔壁（存疑）大学没有李华\n",
    "        # 隔壁大学人的第一反应肯定是高考英语卷中的李华\n",
    "    print(\"隔壁大学\", which_li_hua) # 高考英语卷中\n",
    "    \n",
    "# 外面的人（最外层，即全局）没有听说过别的李华\n",
    "print(\"外面的人\", which_li_hua) # 高考英语卷中\n",
    "ShanghaiTech()\n",
    "SUSTech()\n",
    "    \n",
    "# ShanghaiTech 的李华不影响外面的人认知中的李华\n",
    "print(\"外面的人\", which_li_hua) # 高考英语卷中"
   ]
  }
 ],
 "metadata": {
  "kernelspec": {
   "display_name": "si100",
   "language": "python",
   "name": "python3"
  },
  "language_info": {
   "codemirror_mode": {
    "name": "ipython",
    "version": 3
   },
   "file_extension": ".py",
   "mimetype": "text/x-python",
   "name": "python",
   "nbconvert_exporter": "python",
   "pygments_lexer": "ipython3",
   "version": "3.13.7"
  }
 },
 "nbformat": 4,
 "nbformat_minor": 5
}
